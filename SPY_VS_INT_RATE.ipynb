{
  "nbformat": 4,
  "nbformat_minor": 0,
  "metadata": {
    "colab": {
      "provenance": []
    },
    "kernelspec": {
      "name": "python3",
      "display_name": "Python 3"
    },
    "language_info": {
      "name": "python"
    }
  },
  "cells": [
    {
      "cell_type": "code",
      "execution_count": 1,
      "metadata": {
        "colab": {
          "base_uri": "https://localhost:8080/"
        },
        "id": "4R0bBjnmA-r2",
        "outputId": "d14b2442-c0ac-4d33-e961-71a01af8e765"
      },
      "outputs": [
        {
          "output_type": "stream",
          "name": "stderr",
          "text": [
            "/usr/local/lib/python3.10/dist-packages/yfinance/base.py:48: FutureWarning: The default dtype for empty Series will be 'object' instead of 'float64' in a future version. Specify a dtype explicitly to silence this warning.\n",
            "  _empty_series = pd.Series()\n"
          ]
        },
        {
          "output_type": "stream",
          "name": "stdout",
          "text": [
            "Rate Change Date: 2008-02-01, Short-term Return: 0.00%, Long-term Return: -40.24%\n",
            "Rate Change Date: 2020-03-01, Short-term Return: nan%, Long-term Return: nan%\n",
            "Rate Change Date: 2008-10-01, Short-term Return: 0.00%, Long-term Return: -8.98%\n",
            "Rate Change Date: 2022-11-01, Short-term Return: 5.95%, Long-term Return: 11.65%\n",
            "Rate Change Date: 2022-08-01, Short-term Return: 0.00%, Long-term Return: 12.94%\n",
            "Rate Change Date: 2020-04-01, Short-term Return: 14.89%, Long-term Return: 65.36%\n",
            "Rate Change Date: 2001-05-01, Short-term Return: 0.00%, Long-term Return: -12.95%\n",
            "Rate Change Date: 2001-09-01, Short-term Return: 0.00%, Long-term Return: -14.02%\n",
            "Rate Change Date: 2008-11-01, Short-term Return: 0.00%, Long-term Return: 28.66%\n",
            "Rate Change Date: 2001-10-01, Short-term Return: 0.00%, Long-term Return: -16.61%\n"
          ]
        }
      ],
      "source": [
        "import yfinance as yf\n",
        "import pandas as pd\n",
        "import pandas_datareader as pdr\n",
        "from datetime import datetime, timedelta\n",
        "import numpy as np\n",
        "\n",
        "# Fetch SPY data from yfinance\n",
        "spy = yf.Ticker(\"SPY\")\n",
        "spy_data = spy.history(period=\"max\")\n",
        "\n",
        "# Ensure datetime objects are tz-naive for compatibility\n",
        "start = spy_data.index.min().tz_localize(None)\n",
        "end = datetime.now()\n",
        "\n",
        "# Fetch Interest Rate data from FRED\n",
        "interest_rate_data = pdr.get_data_fred('FEDFUNDS', start, end)\n",
        "\n",
        "# Merging datasets\n",
        "spy_data.index = spy_data.index.tz_localize(None)\n",
        "interest_rate_data.index = interest_rate_data.index.tz_localize(None)\n",
        "combined_data = pd.merge(spy_data, interest_rate_data, how='inner', left_index=True, right_index=True)\n",
        "\n",
        "# Defining windows for short-term and long-term analysis\n",
        "window_short_term = 30  # Short-term window (e.g., 30 days)\n",
        "window_long_term = 365  # Long-term window (e.g., 1 year)\n",
        "\n",
        "# Function to analyze effects around rate change dates\n",
        "def analyze_rate_change_effects(rate_change_date, window_short, window_long):\n",
        "    short_term_end = rate_change_date + timedelta(days=window_short)\n",
        "    long_term_end = rate_change_date + timedelta(days=window_long)\n",
        "\n",
        "    short_term_data = combined_data[(combined_data.index >= rate_change_date) & (combined_data.index <= short_term_end)]\n",
        "    long_term_data = combined_data[(combined_data.index >= rate_change_date) & (combined_data.index <= long_term_end)]\n",
        "\n",
        "    # Using head(1) and tail(1) to safely access the first and last rows\n",
        "    if not short_term_data.empty and not long_term_data.empty:\n",
        "        short_term_start_price = short_term_data['Close'].head(1).item()\n",
        "        short_term_end_price = short_term_data['Close'].tail(1).item()\n",
        "        long_term_start_price = long_term_data['Close'].head(1).item()\n",
        "        long_term_end_price = long_term_data['Close'].tail(1).item()\n",
        "\n",
        "        short_term_return = (short_term_end_price / short_term_start_price) - 1\n",
        "        long_term_return = (long_term_end_price / long_term_start_price) - 1\n",
        "    else:\n",
        "        short_term_return = np.nan\n",
        "        long_term_return = np.nan\n",
        "\n",
        "    return short_term_return, long_term_return\n",
        "\n",
        "# Analyzing effects for each significant rate change\n",
        "significant_rate_changes = interest_rate_data['FEDFUNDS'].diff().dropna().abs().nlargest(10).index\n",
        "results = {}\n",
        "for date in significant_rate_changes:\n",
        "    results[date] = analyze_rate_change_effects(date, window_short_term, window_long_term)\n",
        "\n",
        "# Outputting results\n",
        "for date, (short_term, long_term) in results.items():\n",
        "    print(f\"Rate Change Date: {date.strftime('%Y-%m-%d')}, Short-term Return: {short_term:.2%}, Long-term Return: {long_term:.2%}\")"
      ]
    }
  ]
}