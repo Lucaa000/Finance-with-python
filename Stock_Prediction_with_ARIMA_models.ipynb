{
  "nbformat": 4,
  "nbformat_minor": 0,
  "metadata": {
    "colab": {
      "provenance": []
    },
    "kernelspec": {
      "name": "python3",
      "display_name": "Python 3"
    },
    "language_info": {
      "name": "python"
    }
  },
  "cells": [
    {
      "cell_type": "code",
      "execution_count": 3,
      "metadata": {
        "colab": {
          "base_uri": "https://localhost:8080/"
        },
        "id": "vzTmvd0IK4w5",
        "outputId": "4a811345-5f4b-4a47-edf1-93a2b5446bff"
      },
      "outputs": [
        {
          "output_type": "stream",
          "name": "stderr",
          "text": [
            "\r[*********************100%%**********************]  1 of 1 completed\n"
          ]
        },
        {
          "output_type": "execute_result",
          "data": {
            "text/plain": [
              "(0.9459530446188531, True)"
            ]
          },
          "metadata": {},
          "execution_count": 3
        }
      ],
      "source": [
        "import yfinance as yf\n",
        "import pmdarima\n",
        "import plotly\n",
        "import plotly.graph_objs as go\n",
        "\n",
        "# getting data from Yahoo Finance\n",
        "stock_name = 'AMD'  # here you can change the name of stock ticker, for example we will take AMD ticker\n",
        "data = yf.download(stock_name, start=\"2023-01-01\", end=\"2024-01-30\")\n",
        "data_adf = data.drop(['Open', 'High', 'Low', 'Adj Close', 'Volume'], axis=1)\n",
        "data_adf = data_adf['Close']\n",
        "\n",
        "\n",
        "from pmdarima.arima import ADFTest\n",
        "adf_test = ADFTest(alpha = 0.05)\n",
        "adf_test.should_diff(data_adf)"
      ]
    },
    {
      "cell_type": "code",
      "source": [
        "import os\n",
        "import warnings\n",
        "warnings.filterwarnings('ignore')\n",
        "import numpy as np\n",
        "import pandas as pd\n",
        "import matplotlib.pyplot as plt\n",
        "import pmdarima as pm\n",
        "plt.style.use('fivethirtyeight')\n",
        "from pylab import rcParams\n",
        "rcParams['figure.figsize'] = 10, 6\n",
        "from statsmodels.tsa.arima_model import ARIMA\n",
        "from pmdarima.arima import ADFTest\n",
        "from pmdarima.datasets import load_wineind\n",
        "import random\n",
        "\n",
        "def arima(stock_name, data):\n",
        "  df_close = data['Close']\n",
        "\n",
        "    # Split data into train and test set (90% - train, 10% - test)\n",
        "  df_log = df_close\n",
        "    #train_data, test_data = df_log[3:int(len(df_log) * 0.9)], df_log[int(len(df_log) * 0.9):]\n",
        "  train_data, test_data = df_log[3:int(len(df_log) * 0.9)], df_log[int(len(df_log) * 0.9):]\n",
        "  test_values = len(df_log) * 0.01 + 1.0\n",
        "  x_train = list(range(0, 224))\n",
        "  x_test = list(range(224, int(len(data))))\n",
        "  fig = go.Figure()\n",
        "  fig.add_trace(go.Scatter(x=x_train, y=train_data, mode='lines+markers', marker=dict(size=4),  name='train', marker_color='#39304A'))\n",
        "  fig.add_trace(go.Scatter(x=x_test, y=test_data, mode='lines+markers', marker=dict(size=4), name='test', marker_color='#A98D75'))\n",
        "  fig.update_layout(legend_orientation=\"h\",\n",
        "                  legend=dict(x=.5, xanchor=\"center\"),\n",
        "                  plot_bgcolor='#FFFFFF',\n",
        "                  xaxis=dict(gridcolor = 'lightgrey'),\n",
        "                  yaxis=dict(gridcolor = 'lightgrey'),\n",
        "                  title_text = f'{stock_name} ARIMA data', title_x = 0.5,\n",
        "                  xaxis_title=\"Timestep\",\n",
        "                  yaxis_title=\"Stock price\",\n",
        "                  margin=dict(l=0, r=0, t=30, b=0))\n",
        "  fig.show()\n",
        "  model =  pm.auto_arima(df_log,start_p=0, d=None, start_q=0,\n",
        "                          max_p=5, max_d=5, max_q=5, start_P=0,\n",
        "                          D=1, start_Q=0, max_P=5, max_D=5,\n",
        "                          max_Q=5, m=7, seasonal=True,\n",
        "                          error_action='warn',trace = True,\n",
        "                          supress_warnings=True,stepwise = True,\n",
        "                          random_state=20,n_fits = 50 )\n",
        "\n",
        "  model.summary()\n",
        "  exo_data = data['Volume']\n",
        "  exo_data = exo_data[int(len(exo_data) * 0.9):]\n",
        "\n",
        "  preds = model.predict(n_periods = 22, X = exo_data)\n",
        "\n",
        "  preds = np.vstack(preds)\n",
        "  hist_data = yf.download(stock_name, start=\"2021-04-01\", end=\"2021-05-04\")\n",
        "  hist_data = hist_data.drop(['Open', 'High', 'Low', 'Adj Close', 'Volume'], axis=1)\n",
        "  hist_data = hist_data['Close']\n",
        "  hist_data = np.array(hist_data)\n",
        "\n",
        "  rmse = np.sqrt(np.mean(((preds - hist_data) ** 2)))\n",
        "  print(f'RMSE ARIMA: {rmse}')\n",
        "  preds_gr = np.reshape(preds, (22,))\n",
        "  fig = go.Figure()\n",
        "  fig.add_trace(go.Scatter(x=list(range(0, 21)), y=hist_data, mode='lines+markers',  name='historical', marker_color='#39304A'))\n",
        "  fig.add_trace(go.Scatter(x=list(range(0, 21)), y=preds_gr, mode='lines+markers', name='predictions', marker_color='#FFAA00'))\n",
        "  fig.update_layout(legend_orientation=\"h\",\n",
        "                  legend=dict(x=.5, xanchor=\"center\"),\n",
        "                  plot_bgcolor='#FFFFFF',\n",
        "                  xaxis=dict(gridcolor = 'lightgrey'),\n",
        "                  yaxis=dict(gridcolor = 'lightgrey'),\n",
        "                  title_text = f'{stock_name} ARIMA prediction', title_x = 0.5,\n",
        "                  xaxis_title=\"Timestep\",\n",
        "                  yaxis_title=\"Stock price\",\n",
        "                  margin=dict(l=0, r=0, t=30, b=0))\n",
        "  fig.show()\n",
        "\n",
        "  return preds, rmse\n"
      ],
      "metadata": {
        "id": "2jQ5fGPgLDjm"
      },
      "execution_count": 4,
      "outputs": []
    },
    {
      "cell_type": "code",
      "source": [
        "arima(stock_name, data)"
      ],
      "metadata": {
        "colab": {
          "base_uri": "https://localhost:8080/",
          "height": 1000
        },
        "id": "oLxvOTuPLDnN",
        "outputId": "b98bf1c6-0550-4cc4-891d-1fb7075ddb8a"
      },
      "execution_count": 5,
      "outputs": [
        {
          "output_type": "display_data",
          "data": {
            "text/html": [
              "<html>\n",
              "<head><meta charset=\"utf-8\" /></head>\n",
              "<body>\n",
              "    <div>            <script src=\"https://cdnjs.cloudflare.com/ajax/libs/mathjax/2.7.5/MathJax.js?config=TeX-AMS-MML_SVG\"></script><script type=\"text/javascript\">if (window.MathJax && window.MathJax.Hub && window.MathJax.Hub.Config) {window.MathJax.Hub.Config({SVG: {font: \"STIX-Web\"}});}</script>                <script type=\"text/javascript\">window.PlotlyConfig = {MathJaxConfig: 'local'};</script>\n",
              "        <script charset=\"utf-8\" src=\"https://cdn.plot.ly/plotly-2.24.1.min.js\"></script>                <div id=\"ab78572f-7c6f-424b-9c10-efd099355aeb\" class=\"plotly-graph-div\" style=\"height:525px; width:100%;\"></div>            <script type=\"text/javascript\">                                    window.PLOTLYENV=window.PLOTLYENV || {};                                    if (document.getElementById(\"ab78572f-7c6f-424b-9c10-efd099355aeb\")) {                    Plotly.newPlot(                        \"ab78572f-7c6f-424b-9c10-efd099355aeb\",                        [{\"marker\":{\"color\":\"#39304A\",\"size\":4},\"mode\":\"lines+markers\",\"name\":\"train\",\"x\":[0,1,2,3,4,5,6,7,8,9,10,11,12,13,14,15,16,17,18,19,20,21,22,23,24,25,26,27,28,29,30,31,32,33,34,35,36,37,38,39,40,41,42,43,44,45,46,47,48,49,50,51,52,53,54,55,56,57,58,59,60,61,62,63,64,65,66,67,68,69,70,71,72,73,74,75,76,77,78,79,80,81,82,83,84,85,86,87,88,89,90,91,92,93,94,95,96,97,98,99,100,101,102,103,104,105,106,107,108,109,110,111,112,113,114,115,116,117,118,119,120,121,122,123,124,125,126,127,128,129,130,131,132,133,134,135,136,137,138,139,140,141,142,143,144,145,146,147,148,149,150,151,152,153,154,155,156,157,158,159,160,161,162,163,164,165,166,167,168,169,170,171,172,173,174,175,176,177,178,179,180,181,182,183,184,185,186,187,188,189,190,191,192,193,194,195,196,197,198,199,200,201,202,203,204,205,206,207,208,209,210,211,212,213,214,215,216,217,218,219,220,221,222,223],\"y\":[63.959999084472656,67.23999786376953,68.05000305175781,69.05999755859375,70.80000305175781,71.0,71.58999633789062,70.52999877929688,67.70999908447266,70.06999969482422,76.52999877929688,74.69999694824219,74.91000366210938,75.16000366210938,75.4000015258789,72.44999694824219,75.1500015258789,84.63999938964844,88.30999755859375,86.08999633789062,83.68000030517578,85.91000366210938,84.69000244140625,83.20999908447266,81.4800033569336,83.12999725341797,85.94999694824219,85.18000030517578,80.08000183105469,78.5,76.7699966430664,76.61000061035156,79.75,78.08999633789062,78.7699966430664,78.58000183105469,78.29000091552734,80.44000244140625,81.5199966430664,81.16000366210938,82.11000061035156,85.37000274658203,84.02999877929688,82.66999816894531,82.01000213623047,87.44999694824219,89.68000030517578,96.5999984741211,97.83999633789062,96.80999755859375,95.93000030517578,97.58000183105469,100.27999877929688,97.94999694824219,96.61000061035156,94.55999755859375,96.08999633789062,97.87999725341797,98.01000213623047,96.55999755859375,95.87000274658203,92.55999755859375,92.47000122070312,95.4800033569336,94.02999877929688,92.33000183105469,92.08999633789062,91.75,89.87000274658203,89.77999877929688,89.94000244140625,90.11000061035156,88.43000030517578,87.56999969482422,83.80000305175781,85.94000244140625,87.44000244140625,89.37000274658203,89.69000244140625,89.91000366210938,81.62000274658203,86.61000061035156,89.83999633789062,95.04000091552734,95.05999755859375,97.0199966430664,97.0999984741211,95.26000213623047,97.4000015258789,101.4800033569336,103.75,107.93000030517578,105.81999969482422,108.0,108.12000274658203,108.2699966430664,120.3499984741211,127.02999877929688,125.2699966430664,118.20999908447266,119.47000122070312,117.86000061035156,117.93000030517578,124.2300033569336,117.83000183105469,121.05000305175781,124.91999816894531,129.19000244140625,124.52999877929688,127.33000183105469,124.23999786376953,120.08000183105469,118.93000030517578,112.11000061035156,110.69999694824219,110.01000213623047,107.51000213623047,110.38999938964844,110.16999816894531,111.23999786376953,113.91000366210938,115.81999969482422,113.94999694824219,113.4800033569336,113.16999816894531,113.58000183105469,111.31999969482422,114.58000183105469,115.91999816894531,115.94000244140625,118.31999969482422,117.93000030517578,116.43000030517578,110.25,110.94999694824219,110.61000061035156,113.0,110.08999633789062,111.0999984741211,112.95999908447266,114.4000015258789,117.5999984741211,109.3499984741211,113.1500015258789,115.81999969482422,116.80999755859375,113.2300033569336,110.47000122070312,110.2300033569336,107.56999969482422,111.9800033569336,111.3499984741211,107.19000244140625,104.44000244140625,105.44999694824219,108.22000122070312,105.66000366210938,109.43000030517578,101.80000305175781,102.25,102.61000061035156,105.91999816894531,106.58999633789062,105.72000122070312,109.44999694824219,110.77999877929688,109.27999877929688,106.58999633789062,106.08999633789062,105.31999969482422,105.30999755859375,107.70999908447266,106.62999725341797,101.48999786376953,102.37000274658203,101.61000061035156,100.33999633789062,96.11000061035156,96.19999694824219,97.37999725341797,95.95999908447266,98.06999969482422,102.76000213623047,102.81999969482422,103.2699966430664,100.08000183105469,104.06999969482422,102.91000366210938,107.23999786376953,106.97000122070312,109.01000213623047,108.30999755859375,108.79000091552734,105.08999633789062,106.45999908447266,105.13999938964844,102.16999816894531,102.4000015258789,101.80999755859375,100.01000213623047,101.66999816894531,96.05999755859375,93.66999816894531,96.43000030517578,96.18000030517578,98.5,108.04000091552734,107.83000183105469,112.25,111.75,113.44999694824219,113.58999633789062,113.48999786376953,118.58999633789062,116.79000091552734,119.87999725341797,118.0,119.83000183105469,120.62000274658203,121.52999877929688,119.16000366210938,122.51000213623047,122.30999755859375,122.6500015258789,122.01000213623047,123.8499984741211,121.16000366210938,121.38999938964844,118.56999969482422,118.37999725341797,116.81999969482422,128.3699951171875,128.9199981689453,134.41000366210938,137.61000061035156,138.19000244140625,138.0,139.14999389648438,138.89999389648438],\"type\":\"scatter\"},{\"marker\":{\"color\":\"#A98D75\",\"size\":4},\"mode\":\"lines+markers\",\"name\":\"test\",\"x\":[224,225,226,227,228,229,230,231,232,233,234,235,236,237,238,239,240,241,242,243,244,245,246,247,248,249,250,251,252,253,254,255,256,257,258,259,260,261,262,263,264,265,266,267,268],\"y\":[140.14999389648438,135.47000122070312,139.91000366210938,139.60000610351562,143.41000366210938,146.07000732421875,148.75999450683594,147.41000366210938,138.5800018310547,135.32000732421875,136.00999450683594,138.5800018310547,146.17999267578125,149.25999450683594,148.5399932861328,148.02000427246094,146.55999755859375,158.74000549316406,160.1699981689453,162.6699981689453,174.22999572753906,168.17999267578125,168.4199981689453,178.2899932861328,180.3300018310547,177.25,177.8300018310547],\"type\":\"scatter\"}],                        {\"template\":{\"data\":{\"histogram2dcontour\":[{\"type\":\"histogram2dcontour\",\"colorbar\":{\"outlinewidth\":0,\"ticks\":\"\"},\"colorscale\":[[0.0,\"#0d0887\"],[0.1111111111111111,\"#46039f\"],[0.2222222222222222,\"#7201a8\"],[0.3333333333333333,\"#9c179e\"],[0.4444444444444444,\"#bd3786\"],[0.5555555555555556,\"#d8576b\"],[0.6666666666666666,\"#ed7953\"],[0.7777777777777778,\"#fb9f3a\"],[0.8888888888888888,\"#fdca26\"],[1.0,\"#f0f921\"]]}],\"choropleth\":[{\"type\":\"choropleth\",\"colorbar\":{\"outlinewidth\":0,\"ticks\":\"\"}}],\"histogram2d\":[{\"type\":\"histogram2d\",\"colorbar\":{\"outlinewidth\":0,\"ticks\":\"\"},\"colorscale\":[[0.0,\"#0d0887\"],[0.1111111111111111,\"#46039f\"],[0.2222222222222222,\"#7201a8\"],[0.3333333333333333,\"#9c179e\"],[0.4444444444444444,\"#bd3786\"],[0.5555555555555556,\"#d8576b\"],[0.6666666666666666,\"#ed7953\"],[0.7777777777777778,\"#fb9f3a\"],[0.8888888888888888,\"#fdca26\"],[1.0,\"#f0f921\"]]}],\"heatmap\":[{\"type\":\"heatmap\",\"colorbar\":{\"outlinewidth\":0,\"ticks\":\"\"},\"colorscale\":[[0.0,\"#0d0887\"],[0.1111111111111111,\"#46039f\"],[0.2222222222222222,\"#7201a8\"],[0.3333333333333333,\"#9c179e\"],[0.4444444444444444,\"#bd3786\"],[0.5555555555555556,\"#d8576b\"],[0.6666666666666666,\"#ed7953\"],[0.7777777777777778,\"#fb9f3a\"],[0.8888888888888888,\"#fdca26\"],[1.0,\"#f0f921\"]]}],\"heatmapgl\":[{\"type\":\"heatmapgl\",\"colorbar\":{\"outlinewidth\":0,\"ticks\":\"\"},\"colorscale\":[[0.0,\"#0d0887\"],[0.1111111111111111,\"#46039f\"],[0.2222222222222222,\"#7201a8\"],[0.3333333333333333,\"#9c179e\"],[0.4444444444444444,\"#bd3786\"],[0.5555555555555556,\"#d8576b\"],[0.6666666666666666,\"#ed7953\"],[0.7777777777777778,\"#fb9f3a\"],[0.8888888888888888,\"#fdca26\"],[1.0,\"#f0f921\"]]}],\"contourcarpet\":[{\"type\":\"contourcarpet\",\"colorbar\":{\"outlinewidth\":0,\"ticks\":\"\"}}],\"contour\":[{\"type\":\"contour\",\"colorbar\":{\"outlinewidth\":0,\"ticks\":\"\"},\"colorscale\":[[0.0,\"#0d0887\"],[0.1111111111111111,\"#46039f\"],[0.2222222222222222,\"#7201a8\"],[0.3333333333333333,\"#9c179e\"],[0.4444444444444444,\"#bd3786\"],[0.5555555555555556,\"#d8576b\"],[0.6666666666666666,\"#ed7953\"],[0.7777777777777778,\"#fb9f3a\"],[0.8888888888888888,\"#fdca26\"],[1.0,\"#f0f921\"]]}],\"surface\":[{\"type\":\"surface\",\"colorbar\":{\"outlinewidth\":0,\"ticks\":\"\"},\"colorscale\":[[0.0,\"#0d0887\"],[0.1111111111111111,\"#46039f\"],[0.2222222222222222,\"#7201a8\"],[0.3333333333333333,\"#9c179e\"],[0.4444444444444444,\"#bd3786\"],[0.5555555555555556,\"#d8576b\"],[0.6666666666666666,\"#ed7953\"],[0.7777777777777778,\"#fb9f3a\"],[0.8888888888888888,\"#fdca26\"],[1.0,\"#f0f921\"]]}],\"mesh3d\":[{\"type\":\"mesh3d\",\"colorbar\":{\"outlinewidth\":0,\"ticks\":\"\"}}],\"scatter\":[{\"fillpattern\":{\"fillmode\":\"overlay\",\"size\":10,\"solidity\":0.2},\"type\":\"scatter\"}],\"parcoords\":[{\"type\":\"parcoords\",\"line\":{\"colorbar\":{\"outlinewidth\":0,\"ticks\":\"\"}}}],\"scatterpolargl\":[{\"type\":\"scatterpolargl\",\"marker\":{\"colorbar\":{\"outlinewidth\":0,\"ticks\":\"\"}}}],\"bar\":[{\"error_x\":{\"color\":\"#2a3f5f\"},\"error_y\":{\"color\":\"#2a3f5f\"},\"marker\":{\"line\":{\"color\":\"#E5ECF6\",\"width\":0.5},\"pattern\":{\"fillmode\":\"overlay\",\"size\":10,\"solidity\":0.2}},\"type\":\"bar\"}],\"scattergeo\":[{\"type\":\"scattergeo\",\"marker\":{\"colorbar\":{\"outlinewidth\":0,\"ticks\":\"\"}}}],\"scatterpolar\":[{\"type\":\"scatterpolar\",\"marker\":{\"colorbar\":{\"outlinewidth\":0,\"ticks\":\"\"}}}],\"histogram\":[{\"marker\":{\"pattern\":{\"fillmode\":\"overlay\",\"size\":10,\"solidity\":0.2}},\"type\":\"histogram\"}],\"scattergl\":[{\"type\":\"scattergl\",\"marker\":{\"colorbar\":{\"outlinewidth\":0,\"ticks\":\"\"}}}],\"scatter3d\":[{\"type\":\"scatter3d\",\"line\":{\"colorbar\":{\"outlinewidth\":0,\"ticks\":\"\"}},\"marker\":{\"colorbar\":{\"outlinewidth\":0,\"ticks\":\"\"}}}],\"scattermapbox\":[{\"type\":\"scattermapbox\",\"marker\":{\"colorbar\":{\"outlinewidth\":0,\"ticks\":\"\"}}}],\"scatterternary\":[{\"type\":\"scatterternary\",\"marker\":{\"colorbar\":{\"outlinewidth\":0,\"ticks\":\"\"}}}],\"scattercarpet\":[{\"type\":\"scattercarpet\",\"marker\":{\"colorbar\":{\"outlinewidth\":0,\"ticks\":\"\"}}}],\"carpet\":[{\"aaxis\":{\"endlinecolor\":\"#2a3f5f\",\"gridcolor\":\"white\",\"linecolor\":\"white\",\"minorgridcolor\":\"white\",\"startlinecolor\":\"#2a3f5f\"},\"baxis\":{\"endlinecolor\":\"#2a3f5f\",\"gridcolor\":\"white\",\"linecolor\":\"white\",\"minorgridcolor\":\"white\",\"startlinecolor\":\"#2a3f5f\"},\"type\":\"carpet\"}],\"table\":[{\"cells\":{\"fill\":{\"color\":\"#EBF0F8\"},\"line\":{\"color\":\"white\"}},\"header\":{\"fill\":{\"color\":\"#C8D4E3\"},\"line\":{\"color\":\"white\"}},\"type\":\"table\"}],\"barpolar\":[{\"marker\":{\"line\":{\"color\":\"#E5ECF6\",\"width\":0.5},\"pattern\":{\"fillmode\":\"overlay\",\"size\":10,\"solidity\":0.2}},\"type\":\"barpolar\"}],\"pie\":[{\"automargin\":true,\"type\":\"pie\"}]},\"layout\":{\"autotypenumbers\":\"strict\",\"colorway\":[\"#636efa\",\"#EF553B\",\"#00cc96\",\"#ab63fa\",\"#FFA15A\",\"#19d3f3\",\"#FF6692\",\"#B6E880\",\"#FF97FF\",\"#FECB52\"],\"font\":{\"color\":\"#2a3f5f\"},\"hovermode\":\"closest\",\"hoverlabel\":{\"align\":\"left\"},\"paper_bgcolor\":\"white\",\"plot_bgcolor\":\"#E5ECF6\",\"polar\":{\"bgcolor\":\"#E5ECF6\",\"angularaxis\":{\"gridcolor\":\"white\",\"linecolor\":\"white\",\"ticks\":\"\"},\"radialaxis\":{\"gridcolor\":\"white\",\"linecolor\":\"white\",\"ticks\":\"\"}},\"ternary\":{\"bgcolor\":\"#E5ECF6\",\"aaxis\":{\"gridcolor\":\"white\",\"linecolor\":\"white\",\"ticks\":\"\"},\"baxis\":{\"gridcolor\":\"white\",\"linecolor\":\"white\",\"ticks\":\"\"},\"caxis\":{\"gridcolor\":\"white\",\"linecolor\":\"white\",\"ticks\":\"\"}},\"coloraxis\":{\"colorbar\":{\"outlinewidth\":0,\"ticks\":\"\"}},\"colorscale\":{\"sequential\":[[0.0,\"#0d0887\"],[0.1111111111111111,\"#46039f\"],[0.2222222222222222,\"#7201a8\"],[0.3333333333333333,\"#9c179e\"],[0.4444444444444444,\"#bd3786\"],[0.5555555555555556,\"#d8576b\"],[0.6666666666666666,\"#ed7953\"],[0.7777777777777778,\"#fb9f3a\"],[0.8888888888888888,\"#fdca26\"],[1.0,\"#f0f921\"]],\"sequentialminus\":[[0.0,\"#0d0887\"],[0.1111111111111111,\"#46039f\"],[0.2222222222222222,\"#7201a8\"],[0.3333333333333333,\"#9c179e\"],[0.4444444444444444,\"#bd3786\"],[0.5555555555555556,\"#d8576b\"],[0.6666666666666666,\"#ed7953\"],[0.7777777777777778,\"#fb9f3a\"],[0.8888888888888888,\"#fdca26\"],[1.0,\"#f0f921\"]],\"diverging\":[[0,\"#8e0152\"],[0.1,\"#c51b7d\"],[0.2,\"#de77ae\"],[0.3,\"#f1b6da\"],[0.4,\"#fde0ef\"],[0.5,\"#f7f7f7\"],[0.6,\"#e6f5d0\"],[0.7,\"#b8e186\"],[0.8,\"#7fbc41\"],[0.9,\"#4d9221\"],[1,\"#276419\"]]},\"xaxis\":{\"gridcolor\":\"white\",\"linecolor\":\"white\",\"ticks\":\"\",\"title\":{\"standoff\":15},\"zerolinecolor\":\"white\",\"automargin\":true,\"zerolinewidth\":2},\"yaxis\":{\"gridcolor\":\"white\",\"linecolor\":\"white\",\"ticks\":\"\",\"title\":{\"standoff\":15},\"zerolinecolor\":\"white\",\"automargin\":true,\"zerolinewidth\":2},\"scene\":{\"xaxis\":{\"backgroundcolor\":\"#E5ECF6\",\"gridcolor\":\"white\",\"linecolor\":\"white\",\"showbackground\":true,\"ticks\":\"\",\"zerolinecolor\":\"white\",\"gridwidth\":2},\"yaxis\":{\"backgroundcolor\":\"#E5ECF6\",\"gridcolor\":\"white\",\"linecolor\":\"white\",\"showbackground\":true,\"ticks\":\"\",\"zerolinecolor\":\"white\",\"gridwidth\":2},\"zaxis\":{\"backgroundcolor\":\"#E5ECF6\",\"gridcolor\":\"white\",\"linecolor\":\"white\",\"showbackground\":true,\"ticks\":\"\",\"zerolinecolor\":\"white\",\"gridwidth\":2}},\"shapedefaults\":{\"line\":{\"color\":\"#2a3f5f\"}},\"annotationdefaults\":{\"arrowcolor\":\"#2a3f5f\",\"arrowhead\":0,\"arrowwidth\":1},\"geo\":{\"bgcolor\":\"white\",\"landcolor\":\"#E5ECF6\",\"subunitcolor\":\"white\",\"showland\":true,\"showlakes\":true,\"lakecolor\":\"white\"},\"title\":{\"x\":0.05},\"mapbox\":{\"style\":\"light\"}}},\"legend\":{\"orientation\":\"h\",\"x\":0.5,\"xanchor\":\"center\"},\"xaxis\":{\"gridcolor\":\"lightgrey\",\"title\":{\"text\":\"Timestep\"}},\"yaxis\":{\"gridcolor\":\"lightgrey\",\"title\":{\"text\":\"Stock price\"}},\"title\":{\"text\":\"AMD ARIMA data\",\"x\":0.5},\"margin\":{\"l\":0,\"r\":0,\"t\":30,\"b\":0},\"plot_bgcolor\":\"#FFFFFF\"},                        {\"responsive\": true}                    ).then(function(){\n",
              "                            \n",
              "var gd = document.getElementById('ab78572f-7c6f-424b-9c10-efd099355aeb');\n",
              "var x = new MutationObserver(function (mutations, observer) {{\n",
              "        var display = window.getComputedStyle(gd).display;\n",
              "        if (!display || display === 'none') {{\n",
              "            console.log([gd, 'removed!']);\n",
              "            Plotly.purge(gd);\n",
              "            observer.disconnect();\n",
              "        }}\n",
              "}});\n",
              "\n",
              "// Listen for the removal of the full notebook cells\n",
              "var notebookContainer = gd.closest('#notebook-container');\n",
              "if (notebookContainer) {{\n",
              "    x.observe(notebookContainer, {childList: true});\n",
              "}}\n",
              "\n",
              "// Listen for the clearing of the current output cell\n",
              "var outputEl = gd.closest('.output');\n",
              "if (outputEl) {{\n",
              "    x.observe(outputEl, {childList: true});\n",
              "}}\n",
              "\n",
              "                        })                };                            </script>        </div>\n",
              "</body>\n",
              "</html>"
            ]
          },
          "metadata": {}
        },
        {
          "output_type": "stream",
          "name": "stdout",
          "text": [
            "Performing stepwise search to minimize aic\n",
            " ARIMA(0,0,0)(0,1,0)[7] intercept   : AIC=1851.445, Time=0.13 sec\n",
            " ARIMA(1,0,0)(1,1,0)[7] intercept   : AIC=1442.376, Time=0.71 sec\n",
            " ARIMA(0,0,1)(0,1,1)[7] intercept   : AIC=1671.253, Time=0.78 sec\n",
            " ARIMA(0,0,0)(0,1,0)[7]             : AIC=1880.586, Time=0.10 sec\n",
            " ARIMA(1,0,0)(0,1,0)[7] intercept   : AIC=1492.401, Time=0.15 sec\n",
            " ARIMA(1,0,0)(2,1,0)[7] intercept   : AIC=1412.662, Time=1.33 sec\n",
            " ARIMA(1,0,0)(3,1,0)[7] intercept   : AIC=1407.229, Time=3.12 sec\n",
            " ARIMA(1,0,0)(4,1,0)[7] intercept   : AIC=1404.176, Time=7.65 sec\n",
            " ARIMA(1,0,0)(5,1,0)[7] intercept   : AIC=1405.314, Time=11.78 sec\n",
            " ARIMA(1,0,0)(4,1,1)[7] intercept   : AIC=inf, Time=6.69 sec\n",
            " ARIMA(1,0,0)(3,1,1)[7] intercept   : AIC=inf, Time=5.58 sec\n",
            " ARIMA(1,0,0)(5,1,1)[7] intercept   : AIC=inf, Time=12.74 sec\n",
            " ARIMA(0,0,0)(4,1,0)[7] intercept   : AIC=1847.169, Time=2.40 sec\n",
            " ARIMA(2,0,0)(4,1,0)[7] intercept   : AIC=1406.168, Time=3.56 sec\n",
            " ARIMA(1,0,1)(4,1,0)[7] intercept   : AIC=1406.169, Time=3.56 sec\n",
            " ARIMA(0,0,1)(4,1,0)[7] intercept   : AIC=1675.141, Time=3.60 sec\n",
            " ARIMA(2,0,1)(4,1,0)[7] intercept   : AIC=1406.132, Time=7.51 sec\n"
          ]
        },
        {
          "output_type": "stream",
          "name": "stderr",
          "text": [
            "\r[*********************100%%**********************]  1 of 1 completed"
          ]
        },
        {
          "output_type": "stream",
          "name": "stdout",
          "text": [
            " ARIMA(1,0,0)(4,1,0)[7]             : AIC=1404.992, Time=1.20 sec\n",
            "\n",
            "Best model:  ARIMA(1,0,0)(4,1,0)[7] intercept\n",
            "Total fit time: 72.653 seconds\n",
            "RMSE ARIMA: 104.519185497432\n"
          ]
        },
        {
          "output_type": "stream",
          "name": "stderr",
          "text": [
            "\n"
          ]
        },
        {
          "output_type": "display_data",
          "data": {
            "text/html": [
              "<html>\n",
              "<head><meta charset=\"utf-8\" /></head>\n",
              "<body>\n",
              "    <div>            <script src=\"https://cdnjs.cloudflare.com/ajax/libs/mathjax/2.7.5/MathJax.js?config=TeX-AMS-MML_SVG\"></script><script type=\"text/javascript\">if (window.MathJax && window.MathJax.Hub && window.MathJax.Hub.Config) {window.MathJax.Hub.Config({SVG: {font: \"STIX-Web\"}});}</script>                <script type=\"text/javascript\">window.PlotlyConfig = {MathJaxConfig: 'local'};</script>\n",
              "        <script charset=\"utf-8\" src=\"https://cdn.plot.ly/plotly-2.24.1.min.js\"></script>                <div id=\"bbd7b207-dffc-4c67-a41c-e4bd5167a738\" class=\"plotly-graph-div\" style=\"height:525px; width:100%;\"></div>            <script type=\"text/javascript\">                                    window.PLOTLYENV=window.PLOTLYENV || {};                                    if (document.getElementById(\"bbd7b207-dffc-4c67-a41c-e4bd5167a738\")) {                    Plotly.newPlot(                        \"bbd7b207-dffc-4c67-a41c-e4bd5167a738\",                        [{\"marker\":{\"color\":\"#39304A\"},\"mode\":\"lines+markers\",\"name\":\"historical\",\"x\":[0,1,2,3,4,5,6,7,8,9,10,11,12,13,14,15,16,17,18,19,20],\"y\":[81.08999633789062,81.43000030517578,81.44000244140625,82.19999694824219,83.3499984741211,82.76000213623047,78.58000183105469,80.19000244140625,78.55000305175781,83.01000213623047,82.1500015258789,81.11000061035156,79.2699966430664,81.61000061035156,79.05999755859375,82.76000213623047,85.41000366210938,85.20999908447266,84.0199966430664,83.91000366210938,81.62000274658203,78.55000305175781],\"type\":\"scatter\"},{\"marker\":{\"color\":\"#FFAA00\"},\"mode\":\"lines+markers\",\"name\":\"predictions\",\"x\":[0,1,2,3,4,5,6,7,8,9,10,11,12,13,14,15,16,17,18,19,20],\"y\":[183.09693507399768,180.24702562143145,177.27861171118795,179.24779280936653,181.24768478836813,180.98507222210088,183.3089599577703,187.11581516553883,184.43904508279033,180.88885389948072,182.31466105823972,185.78320934507258,185.93372216229136,188.23752683515562,193.46585412535404,189.85940344093362,186.48039788129785,188.5603991184329,191.73829630224344,191.11370980231652,193.41914932019966,198.56474832984222],\"type\":\"scatter\"}],                        {\"template\":{\"data\":{\"histogram2dcontour\":[{\"type\":\"histogram2dcontour\",\"colorbar\":{\"outlinewidth\":0,\"ticks\":\"\"},\"colorscale\":[[0.0,\"#0d0887\"],[0.1111111111111111,\"#46039f\"],[0.2222222222222222,\"#7201a8\"],[0.3333333333333333,\"#9c179e\"],[0.4444444444444444,\"#bd3786\"],[0.5555555555555556,\"#d8576b\"],[0.6666666666666666,\"#ed7953\"],[0.7777777777777778,\"#fb9f3a\"],[0.8888888888888888,\"#fdca26\"],[1.0,\"#f0f921\"]]}],\"choropleth\":[{\"type\":\"choropleth\",\"colorbar\":{\"outlinewidth\":0,\"ticks\":\"\"}}],\"histogram2d\":[{\"type\":\"histogram2d\",\"colorbar\":{\"outlinewidth\":0,\"ticks\":\"\"},\"colorscale\":[[0.0,\"#0d0887\"],[0.1111111111111111,\"#46039f\"],[0.2222222222222222,\"#7201a8\"],[0.3333333333333333,\"#9c179e\"],[0.4444444444444444,\"#bd3786\"],[0.5555555555555556,\"#d8576b\"],[0.6666666666666666,\"#ed7953\"],[0.7777777777777778,\"#fb9f3a\"],[0.8888888888888888,\"#fdca26\"],[1.0,\"#f0f921\"]]}],\"heatmap\":[{\"type\":\"heatmap\",\"colorbar\":{\"outlinewidth\":0,\"ticks\":\"\"},\"colorscale\":[[0.0,\"#0d0887\"],[0.1111111111111111,\"#46039f\"],[0.2222222222222222,\"#7201a8\"],[0.3333333333333333,\"#9c179e\"],[0.4444444444444444,\"#bd3786\"],[0.5555555555555556,\"#d8576b\"],[0.6666666666666666,\"#ed7953\"],[0.7777777777777778,\"#fb9f3a\"],[0.8888888888888888,\"#fdca26\"],[1.0,\"#f0f921\"]]}],\"heatmapgl\":[{\"type\":\"heatmapgl\",\"colorbar\":{\"outlinewidth\":0,\"ticks\":\"\"},\"colorscale\":[[0.0,\"#0d0887\"],[0.1111111111111111,\"#46039f\"],[0.2222222222222222,\"#7201a8\"],[0.3333333333333333,\"#9c179e\"],[0.4444444444444444,\"#bd3786\"],[0.5555555555555556,\"#d8576b\"],[0.6666666666666666,\"#ed7953\"],[0.7777777777777778,\"#fb9f3a\"],[0.8888888888888888,\"#fdca26\"],[1.0,\"#f0f921\"]]}],\"contourcarpet\":[{\"type\":\"contourcarpet\",\"colorbar\":{\"outlinewidth\":0,\"ticks\":\"\"}}],\"contour\":[{\"type\":\"contour\",\"colorbar\":{\"outlinewidth\":0,\"ticks\":\"\"},\"colorscale\":[[0.0,\"#0d0887\"],[0.1111111111111111,\"#46039f\"],[0.2222222222222222,\"#7201a8\"],[0.3333333333333333,\"#9c179e\"],[0.4444444444444444,\"#bd3786\"],[0.5555555555555556,\"#d8576b\"],[0.6666666666666666,\"#ed7953\"],[0.7777777777777778,\"#fb9f3a\"],[0.8888888888888888,\"#fdca26\"],[1.0,\"#f0f921\"]]}],\"surface\":[{\"type\":\"surface\",\"colorbar\":{\"outlinewidth\":0,\"ticks\":\"\"},\"colorscale\":[[0.0,\"#0d0887\"],[0.1111111111111111,\"#46039f\"],[0.2222222222222222,\"#7201a8\"],[0.3333333333333333,\"#9c179e\"],[0.4444444444444444,\"#bd3786\"],[0.5555555555555556,\"#d8576b\"],[0.6666666666666666,\"#ed7953\"],[0.7777777777777778,\"#fb9f3a\"],[0.8888888888888888,\"#fdca26\"],[1.0,\"#f0f921\"]]}],\"mesh3d\":[{\"type\":\"mesh3d\",\"colorbar\":{\"outlinewidth\":0,\"ticks\":\"\"}}],\"scatter\":[{\"fillpattern\":{\"fillmode\":\"overlay\",\"size\":10,\"solidity\":0.2},\"type\":\"scatter\"}],\"parcoords\":[{\"type\":\"parcoords\",\"line\":{\"colorbar\":{\"outlinewidth\":0,\"ticks\":\"\"}}}],\"scatterpolargl\":[{\"type\":\"scatterpolargl\",\"marker\":{\"colorbar\":{\"outlinewidth\":0,\"ticks\":\"\"}}}],\"bar\":[{\"error_x\":{\"color\":\"#2a3f5f\"},\"error_y\":{\"color\":\"#2a3f5f\"},\"marker\":{\"line\":{\"color\":\"#E5ECF6\",\"width\":0.5},\"pattern\":{\"fillmode\":\"overlay\",\"size\":10,\"solidity\":0.2}},\"type\":\"bar\"}],\"scattergeo\":[{\"type\":\"scattergeo\",\"marker\":{\"colorbar\":{\"outlinewidth\":0,\"ticks\":\"\"}}}],\"scatterpolar\":[{\"type\":\"scatterpolar\",\"marker\":{\"colorbar\":{\"outlinewidth\":0,\"ticks\":\"\"}}}],\"histogram\":[{\"marker\":{\"pattern\":{\"fillmode\":\"overlay\",\"size\":10,\"solidity\":0.2}},\"type\":\"histogram\"}],\"scattergl\":[{\"type\":\"scattergl\",\"marker\":{\"colorbar\":{\"outlinewidth\":0,\"ticks\":\"\"}}}],\"scatter3d\":[{\"type\":\"scatter3d\",\"line\":{\"colorbar\":{\"outlinewidth\":0,\"ticks\":\"\"}},\"marker\":{\"colorbar\":{\"outlinewidth\":0,\"ticks\":\"\"}}}],\"scattermapbox\":[{\"type\":\"scattermapbox\",\"marker\":{\"colorbar\":{\"outlinewidth\":0,\"ticks\":\"\"}}}],\"scatterternary\":[{\"type\":\"scatterternary\",\"marker\":{\"colorbar\":{\"outlinewidth\":0,\"ticks\":\"\"}}}],\"scattercarpet\":[{\"type\":\"scattercarpet\",\"marker\":{\"colorbar\":{\"outlinewidth\":0,\"ticks\":\"\"}}}],\"carpet\":[{\"aaxis\":{\"endlinecolor\":\"#2a3f5f\",\"gridcolor\":\"white\",\"linecolor\":\"white\",\"minorgridcolor\":\"white\",\"startlinecolor\":\"#2a3f5f\"},\"baxis\":{\"endlinecolor\":\"#2a3f5f\",\"gridcolor\":\"white\",\"linecolor\":\"white\",\"minorgridcolor\":\"white\",\"startlinecolor\":\"#2a3f5f\"},\"type\":\"carpet\"}],\"table\":[{\"cells\":{\"fill\":{\"color\":\"#EBF0F8\"},\"line\":{\"color\":\"white\"}},\"header\":{\"fill\":{\"color\":\"#C8D4E3\"},\"line\":{\"color\":\"white\"}},\"type\":\"table\"}],\"barpolar\":[{\"marker\":{\"line\":{\"color\":\"#E5ECF6\",\"width\":0.5},\"pattern\":{\"fillmode\":\"overlay\",\"size\":10,\"solidity\":0.2}},\"type\":\"barpolar\"}],\"pie\":[{\"automargin\":true,\"type\":\"pie\"}]},\"layout\":{\"autotypenumbers\":\"strict\",\"colorway\":[\"#636efa\",\"#EF553B\",\"#00cc96\",\"#ab63fa\",\"#FFA15A\",\"#19d3f3\",\"#FF6692\",\"#B6E880\",\"#FF97FF\",\"#FECB52\"],\"font\":{\"color\":\"#2a3f5f\"},\"hovermode\":\"closest\",\"hoverlabel\":{\"align\":\"left\"},\"paper_bgcolor\":\"white\",\"plot_bgcolor\":\"#E5ECF6\",\"polar\":{\"bgcolor\":\"#E5ECF6\",\"angularaxis\":{\"gridcolor\":\"white\",\"linecolor\":\"white\",\"ticks\":\"\"},\"radialaxis\":{\"gridcolor\":\"white\",\"linecolor\":\"white\",\"ticks\":\"\"}},\"ternary\":{\"bgcolor\":\"#E5ECF6\",\"aaxis\":{\"gridcolor\":\"white\",\"linecolor\":\"white\",\"ticks\":\"\"},\"baxis\":{\"gridcolor\":\"white\",\"linecolor\":\"white\",\"ticks\":\"\"},\"caxis\":{\"gridcolor\":\"white\",\"linecolor\":\"white\",\"ticks\":\"\"}},\"coloraxis\":{\"colorbar\":{\"outlinewidth\":0,\"ticks\":\"\"}},\"colorscale\":{\"sequential\":[[0.0,\"#0d0887\"],[0.1111111111111111,\"#46039f\"],[0.2222222222222222,\"#7201a8\"],[0.3333333333333333,\"#9c179e\"],[0.4444444444444444,\"#bd3786\"],[0.5555555555555556,\"#d8576b\"],[0.6666666666666666,\"#ed7953\"],[0.7777777777777778,\"#fb9f3a\"],[0.8888888888888888,\"#fdca26\"],[1.0,\"#f0f921\"]],\"sequentialminus\":[[0.0,\"#0d0887\"],[0.1111111111111111,\"#46039f\"],[0.2222222222222222,\"#7201a8\"],[0.3333333333333333,\"#9c179e\"],[0.4444444444444444,\"#bd3786\"],[0.5555555555555556,\"#d8576b\"],[0.6666666666666666,\"#ed7953\"],[0.7777777777777778,\"#fb9f3a\"],[0.8888888888888888,\"#fdca26\"],[1.0,\"#f0f921\"]],\"diverging\":[[0,\"#8e0152\"],[0.1,\"#c51b7d\"],[0.2,\"#de77ae\"],[0.3,\"#f1b6da\"],[0.4,\"#fde0ef\"],[0.5,\"#f7f7f7\"],[0.6,\"#e6f5d0\"],[0.7,\"#b8e186\"],[0.8,\"#7fbc41\"],[0.9,\"#4d9221\"],[1,\"#276419\"]]},\"xaxis\":{\"gridcolor\":\"white\",\"linecolor\":\"white\",\"ticks\":\"\",\"title\":{\"standoff\":15},\"zerolinecolor\":\"white\",\"automargin\":true,\"zerolinewidth\":2},\"yaxis\":{\"gridcolor\":\"white\",\"linecolor\":\"white\",\"ticks\":\"\",\"title\":{\"standoff\":15},\"zerolinecolor\":\"white\",\"automargin\":true,\"zerolinewidth\":2},\"scene\":{\"xaxis\":{\"backgroundcolor\":\"#E5ECF6\",\"gridcolor\":\"white\",\"linecolor\":\"white\",\"showbackground\":true,\"ticks\":\"\",\"zerolinecolor\":\"white\",\"gridwidth\":2},\"yaxis\":{\"backgroundcolor\":\"#E5ECF6\",\"gridcolor\":\"white\",\"linecolor\":\"white\",\"showbackground\":true,\"ticks\":\"\",\"zerolinecolor\":\"white\",\"gridwidth\":2},\"zaxis\":{\"backgroundcolor\":\"#E5ECF6\",\"gridcolor\":\"white\",\"linecolor\":\"white\",\"showbackground\":true,\"ticks\":\"\",\"zerolinecolor\":\"white\",\"gridwidth\":2}},\"shapedefaults\":{\"line\":{\"color\":\"#2a3f5f\"}},\"annotationdefaults\":{\"arrowcolor\":\"#2a3f5f\",\"arrowhead\":0,\"arrowwidth\":1},\"geo\":{\"bgcolor\":\"white\",\"landcolor\":\"#E5ECF6\",\"subunitcolor\":\"white\",\"showland\":true,\"showlakes\":true,\"lakecolor\":\"white\"},\"title\":{\"x\":0.05},\"mapbox\":{\"style\":\"light\"}}},\"legend\":{\"orientation\":\"h\",\"x\":0.5,\"xanchor\":\"center\"},\"xaxis\":{\"gridcolor\":\"lightgrey\",\"title\":{\"text\":\"Timestep\"}},\"yaxis\":{\"gridcolor\":\"lightgrey\",\"title\":{\"text\":\"Stock price\"}},\"title\":{\"text\":\"AMD ARIMA prediction\",\"x\":0.5},\"margin\":{\"l\":0,\"r\":0,\"t\":30,\"b\":0},\"plot_bgcolor\":\"#FFFFFF\"},                        {\"responsive\": true}                    ).then(function(){\n",
              "                            \n",
              "var gd = document.getElementById('bbd7b207-dffc-4c67-a41c-e4bd5167a738');\n",
              "var x = new MutationObserver(function (mutations, observer) {{\n",
              "        var display = window.getComputedStyle(gd).display;\n",
              "        if (!display || display === 'none') {{\n",
              "            console.log([gd, 'removed!']);\n",
              "            Plotly.purge(gd);\n",
              "            observer.disconnect();\n",
              "        }}\n",
              "}});\n",
              "\n",
              "// Listen for the removal of the full notebook cells\n",
              "var notebookContainer = gd.closest('#notebook-container');\n",
              "if (notebookContainer) {{\n",
              "    x.observe(notebookContainer, {childList: true});\n",
              "}}\n",
              "\n",
              "// Listen for the clearing of the current output cell\n",
              "var outputEl = gd.closest('.output');\n",
              "if (outputEl) {{\n",
              "    x.observe(outputEl, {childList: true});\n",
              "}}\n",
              "\n",
              "                        })                };                            </script>        </div>\n",
              "</body>\n",
              "</html>"
            ]
          },
          "metadata": {}
        },
        {
          "output_type": "execute_result",
          "data": {
            "text/plain": [
              "(array([[183.09693507],\n",
              "        [180.24702562],\n",
              "        [177.27861171],\n",
              "        [179.24779281],\n",
              "        [181.24768479],\n",
              "        [180.98507222],\n",
              "        [183.30895996],\n",
              "        [187.11581517],\n",
              "        [184.43904508],\n",
              "        [180.8888539 ],\n",
              "        [182.31466106],\n",
              "        [185.78320935],\n",
              "        [185.93372216],\n",
              "        [188.23752684],\n",
              "        [193.46585413],\n",
              "        [189.85940344],\n",
              "        [186.48039788],\n",
              "        [188.56039912],\n",
              "        [191.7382963 ],\n",
              "        [191.1137098 ],\n",
              "        [193.41914932],\n",
              "        [198.56474833]]),\n",
              " 104.519185497432)"
            ]
          },
          "metadata": {},
          "execution_count": 5
        }
      ]
    }
  ]
}